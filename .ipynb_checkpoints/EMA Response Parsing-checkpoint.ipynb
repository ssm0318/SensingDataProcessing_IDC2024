{
 "cells": [
  {
   "cell_type": "code",
   "execution_count": null,
   "id": "dae6f070",
   "metadata": {},
   "outputs": [],
   "source": [
    "import json\n",
    "import pandas as pd\n",
    "from pathlib import Path\n",
    "from datetime import datetime\n",
    "import numpy as np\n",
    "from utils import UUIDS, UUID2ID_DICT"
   ]
  },
  {
   "cell_type": "code",
   "execution_count": null,
   "id": "d193a4c8",
   "metadata": {},
   "outputs": [],
   "source": [
    "filepath = Path('test.json')\n",
    "\n",
    "with open(filepath, 'r') as fp:\n",
    "    data = json.load(fp)\n",
    "    \n",
    "ema_data = data"
   ]
  },
  {
   "cell_type": "code",
   "execution_count": null,
   "id": "2b8db4ff",
   "metadata": {},
   "outputs": [],
   "source": [
    "rows = []\n",
    "\n",
    "for uuid, uuid_data in ema_data.items():\n",
    "    package_name = uuid_data.get('package_name', None)\n",
    "    for date, date_data in uuid_data.items():\n",
    "        if date != 'package_name' and date != 'app_name':\n",
    "            if isinstance(date_data, dict) and len(date_data.keys()) == 1:\n",
    "                for nested_id, nested_data in date_data.items():\n",
    "                    # Check type of nested_data\n",
    "                    if not isinstance(nested_data, dict):\n",
    "                        print(f\"Unexpected data type for nested_data: {type(nested_data)}, {nested_data}\")\n",
    "                        continue\n",
    "                    row = {\n",
    "                        'UUID': uuid,\n",
    "                        'date': date,\n",
    "                        'package': package_name,\n",
    "                        **nested_data\n",
    "                    }\n",
    "                    rows.append(row)\n",
    "            else:\n",
    "                # Check type of date_data\n",
    "                if not isinstance(date_data, dict):\n",
    "                    print(f\"Unexpected data type for date_data: {type(date_data)}, {date_data}\")\n",
    "                    continue\n",
    "                row = {\n",
    "                    'UUID': uuid,\n",
    "                    'date': date,\n",
    "                    'package': package_name,\n",
    "                    **date_data\n",
    "                }\n",
    "                rows.append(row)\n",
    "\n",
    "df = pd.DataFrame(rows)\n"
   ]
  },
  {
   "cell_type": "code",
   "execution_count": null,
   "id": "0e4cb404",
   "metadata": {},
   "outputs": [],
   "source": [
    "df.head()"
   ]
  },
  {
   "cell_type": "code",
   "execution_count": null,
   "id": "623b78ae",
   "metadata": {},
   "outputs": [],
   "source": [
    "def is_valid_uuid(uuid):\n",
    "    return uuid in UUID2ID_DICT"
   ]
  },
  {
   "cell_type": "code",
   "execution_count": null,
   "id": "4cc5022e",
   "metadata": {},
   "outputs": [],
   "source": [
    "df['date_'] = df['date'].str[:15]\n",
    "df = df[df['UUID'].apply(is_valid_uuid)]\n",
    "df['question1'] = df['question1'].apply(lambda x: str([x]))\n",
    "df = df.drop_duplicates(subset=['UUID', 'date_', 'question1', 'question4'])"
   ]
  },
  {
   "cell_type": "code",
   "execution_count": null,
   "id": "815d8f71",
   "metadata": {},
   "outputs": [],
   "source": [
    "df['PID'] = df['UUID'].apply(lambda x: UUID2ID_DICT[x] if x in UUID2ID_DICT.keys() else \"NA\")\n",
    "col = df.columns[-1] \n",
    "last_column = df.pop(col)\n",
    "\n",
    "df.insert(1, col, last_column)"
   ]
  },
  {
   "cell_type": "code",
   "execution_count": null,
   "id": "fbeb8d34",
   "metadata": {},
   "outputs": [],
   "source": [
    "df['datetime'] = pd.to_datetime(df['date'], utc=True)\n",
    "df = df.sort_values(by=['PID', 'datetime'], ascending=True)"
   ]
  },
  {
   "cell_type": "code",
   "execution_count": null,
   "id": "614f6a13",
   "metadata": {},
   "outputs": [],
   "source": [
    "df.to_csv(f'./{datetime.now().strftime(\"%Y-%m-%d\")}_ema.csv')\n",
    "\n",
    "# split date\n",
    "df['date'] = df['date'].apply(lambda x: x.split())\n",
    "\n",
    "# get today's date \n",
    "date = datetime.today()\n",
    "\n",
    "month = date.strftime(\"%b\")\n",
    "day = date.strftime(\"%d\")\n",
    "year = date.strftime(\"%Y\")\n",
    "\n"
   ]
  },
  {
   "cell_type": "code",
   "execution_count": null,
   "id": "7ee2b43f",
   "metadata": {},
   "outputs": [],
   "source": [
    "# create column in df that shows if the entry is for the current day\n",
    "jul = ['Jul'] * 17\n",
    "aug = ['Aug'] * 31\n",
    "months = jul + aug\n",
    "\n",
    "juldays = np.arange(15, 32, 1)\n",
    "augdays = np.arange(1, 32, 1)\n",
    "days = np.concatenate((juldays, augdays), axis=0)\n",
    "\n",
    "for i in range(len(months)):\n",
    "    print(f\"{months[i]} {days[i]} 2023\")\n",
    "    df['today'] = df['date'].apply(lambda x: x[1] == months[i] and x[2] == days[i] and x[5] == '2023')\n",
    "\n",
    "    # filter rows that don't have today's entries\n",
    "    today_df = df[df['today']]\n",
    "\n",
    "    # print ids of everyone that doesn't have a response\n",
    "    for key in UUID2ID_DICT.keys():\n",
    "        if key not in today_df['UUID'].values:\n",
    "            print(f\"{UUID2ID_DICT[key]}\")"
   ]
  },
  {
   "cell_type": "code",
   "execution_count": null,
   "id": "41f34faa",
   "metadata": {},
   "outputs": [],
   "source": [
    "today_df"
   ]
  },
  {
   "cell_type": "code",
   "execution_count": null,
   "id": "01e4e5db",
   "metadata": {},
   "outputs": [],
   "source": []
  }
 ],
 "metadata": {
  "kernelspec": {
   "display_name": "Python 3 (ipykernel)",
   "language": "python",
   "name": "python3"
  },
  "language_info": {
   "codemirror_mode": {
    "name": "ipython",
    "version": 3
   },
   "file_extension": ".py",
   "mimetype": "text/x-python",
   "name": "python",
   "nbconvert_exporter": "python",
   "pygments_lexer": "ipython3",
   "version": "3.10.11"
  }
 },
 "nbformat": 4,
 "nbformat_minor": 5
}
