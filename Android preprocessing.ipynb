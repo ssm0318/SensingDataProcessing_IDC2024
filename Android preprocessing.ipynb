{
 "cells": [
  {
   "cell_type": "code",
   "execution_count": 1,
   "id": "a8844324-f560-40b1-85c3-9c7a04ab3e02",
   "metadata": {},
   "outputs": [],
   "source": [
    "import pandas as pd\n",
    "from docx import Document\n",
    "import os"
   ]
  },
  {
   "cell_type": "code",
   "execution_count": 2,
   "id": "ff9b2d3f-2d8f-49fa-a07b-2ea877215d59",
   "metadata": {},
   "outputs": [],
   "source": [
    "file_path = 'android_data.csv'\n",
    "data = pd.read_csv(file_path, encoding='ISO-8859-1')"
   ]
  },
  {
   "cell_type": "code",
   "execution_count": 3,
   "id": "cf547839-cbf9-45c1-9027-705c8394be65",
   "metadata": {},
   "outputs": [],
   "source": [
    "pid_column = 'PID'  \n",
    "date_column = 'date' \n",
    "columns_of_interest = [\n",
    "    'parentEmotion', 'question1', 'question1Other', 'question_feature', \n",
    "    'question_feature_other', 'question_engagement', 'question_engagement_other', \n",
    "    'question2', 'question4', 'question5', 'question6'\n",
    "]"
   ]
  },
  {
   "cell_type": "code",
   "execution_count": 4,
   "id": "8a23b703-0fec-40c6-8614-2f0af7e331bc",
   "metadata": {},
   "outputs": [],
   "source": [
    "data_filtered = data[[pid_column, date_column] + columns_of_interest]"
   ]
  },
  {
   "cell_type": "code",
   "execution_count": 5,
   "id": "80967225-ab3c-4e0f-a68e-9d37ac1beed5",
   "metadata": {},
   "outputs": [
    {
     "name": "stderr",
     "output_type": "stream",
     "text": [
      "/var/folders/vr/fynfqqj539zdh2hh2gwbpjn40000gp/T/ipykernel_98590/331908638.py:1: SettingWithCopyWarning: \n",
      "A value is trying to be set on a copy of a slice from a DataFrame.\n",
      "Try using .loc[row_indexer,col_indexer] = value instead\n",
      "\n",
      "See the caveats in the documentation: https://pandas.pydata.org/pandas-docs/stable/user_guide/indexing.html#returning-a-view-versus-a-copy\n",
      "  data_filtered[pid_column] = data_filtered[pid_column].str.strip().str.lower()\n"
     ]
    }
   ],
   "source": [
    "data_filtered[pid_column] = data_filtered[pid_column].str.strip().str.lower()"
   ]
  },
  {
   "cell_type": "code",
   "execution_count": 6,
   "id": "1ff453d7-fefc-433c-9da1-8f3908a4785b",
   "metadata": {},
   "outputs": [],
   "source": [
    "grouped_data = data_filtered.groupby(pid_column).apply(lambda df: df.to_dict('records'))"
   ]
  },
  {
   "cell_type": "code",
   "execution_count": 7,
   "id": "392da362-e41d-47af-8805-620d5cdb2ea6",
   "metadata": {},
   "outputs": [],
   "source": [
    "output_folder = 'cleaned_android'\n",
    "os.makedirs(output_folder, exist_ok=True)"
   ]
  },
  {
   "cell_type": "code",
   "execution_count": 8,
   "id": "b9db2098-8ce1-4837-be5e-579c0dff8d3c",
   "metadata": {},
   "outputs": [],
   "source": [
    "question_mapping = {\n",
    "    'parentEmotion': 'Parent emotion',\n",
    "    'question1': 'How would you describe the emotion you are feeling? (Select all that apply)',\n",
    "    'question1Other': 'Other (emotion)',\n",
    "    'question_feature': 'What were you interacting with on Instagram?',\n",
    "    'question_feature_other': 'Other (feature)',\n",
    "    'question_engagement': 'How were you interacting on Instagram?',\n",
    "    'question_engagement_other': 'Other (interaction)',\n",
    "    'question2': 'What made you feel that way?',\n",
    "    'question4': 'How do you feel that the activity/interaction you described above impacts your digital well-being?',\n",
    "    'question5': 'Do you feel that you want to experience more or less of the activity/interaction you described above?',\n",
    "    'question6': 'Are you willing to share your screenshot with the research team?'\n",
    "}"
   ]
  },
  {
   "cell_type": "code",
   "execution_count": 9,
   "id": "7c0b675c-872c-4031-9cfb-b3a3d09f3c69",
   "metadata": {},
   "outputs": [
    {
     "name": "stdout",
     "output_type": "stream",
     "text": [
      "Export completed.\n"
     ]
    }
   ],
   "source": [
    "for pid, entries in grouped_data.items():\n",
    "    try:\n",
    "        doc = Document()\n",
    "        doc.add_heading(f'Participant ID: {pid}', 0)\n",
    "        \n",
    "        for entry in entries:\n",
    "            entry_date = entry.get(date_column, 'Unknown Date')\n",
    "            doc.add_heading(f'[Entry: {entry_date}]', level=1)\n",
    "            for col in columns_of_interest:\n",
    "                question_text = question_mapping.get(col, col)  # Get the question text, default to col if not found\n",
    "                if entry.get(col):\n",
    "                    doc.add_paragraph(f\"{question_text}: \\n- {entry[col]}\")\n",
    "            doc.add_paragraph('\\n')\n",
    "        \n",
    "        file_name = os.path.join(output_folder, f'_{pid}.docx')\n",
    "        doc.save(file_name)\n",
    "        \n",
    "    except Exception as e:\n",
    "        print(f\"An error occurred while processing PID: {pid}. Error: {e}\")\n",
    "\n",
    "print(\"Export completed.\")"
   ]
  },
  {
   "cell_type": "code",
   "execution_count": null,
   "id": "75c55c9e-d26d-460c-9d65-9ba5a51758e2",
   "metadata": {},
   "outputs": [],
   "source": []
  },
  {
   "cell_type": "code",
   "execution_count": null,
   "id": "18bb0b37-4a9a-484a-94f1-e7ab078bfa4b",
   "metadata": {},
   "outputs": [],
   "source": []
  },
  {
   "cell_type": "code",
   "execution_count": null,
   "id": "78571b73-223b-4fed-aa93-f364784348e2",
   "metadata": {},
   "outputs": [],
   "source": []
  },
  {
   "cell_type": "code",
   "execution_count": null,
   "id": "5d690e73-2297-449e-85ba-406885cef80e",
   "metadata": {},
   "outputs": [],
   "source": []
  },
  {
   "cell_type": "code",
   "execution_count": null,
   "id": "92e9be04-f172-4a8d-ae6b-cfc06e4ebde6",
   "metadata": {},
   "outputs": [],
   "source": []
  }
 ],
 "metadata": {
  "kernelspec": {
   "display_name": "venv3.9",
   "language": "python",
   "name": "venv3.9"
  },
  "language_info": {
   "codemirror_mode": {
    "name": "ipython",
    "version": 3
   },
   "file_extension": ".py",
   "mimetype": "text/x-python",
   "name": "python",
   "nbconvert_exporter": "python",
   "pygments_lexer": "ipython3",
   "version": "3.9.19"
  }
 },
 "nbformat": 4,
 "nbformat_minor": 5
}
