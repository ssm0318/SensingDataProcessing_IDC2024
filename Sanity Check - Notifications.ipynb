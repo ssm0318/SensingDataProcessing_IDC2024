{
 "cells": [
  {
   "cell_type": "code",
   "execution_count": null,
   "id": "4c6f6149",
   "metadata": {},
   "outputs": [],
   "source": [
    "import re\n",
    "import json\n",
    "from itertools import chain\n",
    "\n",
    "from datetime import datetime\n",
    "from datetime import date, timedelta, time\n",
    "\n",
    "import pandas as pd\n",
    "from pandas import DataFrame, Index\n",
    "from tqdm.notebook import tqdm\n",
    "\n",
    "from notifications_processing import get_model_dataframe\n",
    "from utils import UUID2ID_DICT, UUIDS, IDS, getPkgName"
   ]
  },
  {
   "cell_type": "code",
   "execution_count": null,
   "id": "1b205268",
   "metadata": {},
   "outputs": [],
   "source": [
    "drg_apps = ['com.instagram.android', 'com.zhiliaoapp.musically', 'com.snapchat.android', 'com.example.drg2023']"
   ]
  },
  {
   "cell_type": "code",
   "execution_count": null,
   "id": "97a7e2fd",
   "metadata": {},
   "outputs": [],
   "source": [
    "df = get_model_dataframe(\"Notification\")"
   ]
  },
  {
   "cell_type": "code",
   "execution_count": null,
   "id": "6174fbc4",
   "metadata": {},
   "outputs": [],
   "source": [
    "df_ = df"
   ]
  },
  {
   "cell_type": "code",
   "execution_count": null,
   "id": "1c9de68a",
   "metadata": {},
   "outputs": [],
   "source": [
    "df = df[df['pkgName'].isin(drg_apps)]\n",
    "\n",
    "app_mapping = {\n",
    "    'com.instagram.android': 'Instagram',\n",
    "    'com.zhiliaoapp.musically': 'TikTok',\n",
    "    'com.snapchat.android': 'Snapchat',\n",
    "    'com.example.drg2023': 'AppMinder'\n",
    "}\n",
    "\n",
    "df['appName'] = df['pkgName'].map(app_mapping)\n",
    "df.drop(columns=['pkgName'], inplace=True)\n",
    "\n",
    "df = df.sort_values(by=['id', 'date'], axis=0)\n",
    "\n",
    "df.to_csv('notifications_processed.csv')"
   ]
  },
  {
   "cell_type": "code",
   "execution_count": null,
   "id": "61f5de68",
   "metadata": {},
   "outputs": [],
   "source": [
    "df.drop(columns=['key'], inplace=True)"
   ]
  },
  {
   "cell_type": "code",
   "execution_count": null,
   "id": "de1d3eaa",
   "metadata": {},
   "outputs": [],
   "source": [
    "df"
   ]
  },
  {
   "cell_type": "code",
   "execution_count": null,
   "id": "233e6f80",
   "metadata": {},
   "outputs": [],
   "source": [
    "False"
   ]
  },
  {
   "cell_type": "code",
   "execution_count": null,
   "id": "9147cf63",
   "metadata": {},
   "outputs": [],
   "source": [
    "df['id'].unique()"
   ]
  },
  {
   "cell_type": "code",
   "execution_count": null,
   "id": "170ee512",
   "metadata": {},
   "outputs": [],
   "source": [
    "for date in DATES:\n",
    "    print(date)\n",
    "    date_df = df[df['date'] == date]\n",
    "    # check each UUID\n",
    "    for uuid in UUIDS:\n",
    "        uuid_df = date_df[date_df['uuid'] == uuid]\n",
    "\n",
    "\n",
    "        # only allow rows where pkg name is the app they selected\n",
    "        uuid_df = uuid_df[uuid_df['pkgName'] == getPkgName(uuid)]\n",
    "\n",
    "        # ensure there is at least one record\n",
    "        if (len(uuid_df) == 0):\n",
    "            print(f\"{UUID2ID_DICT[uuid] if uuid in UUID2ID_DICT.keys() else 'NA'}\")"
   ]
  },
  {
   "cell_type": "code",
   "execution_count": null,
   "id": "bb4bceee",
   "metadata": {},
   "outputs": [],
   "source": [
    "df['cancelReason'].unique()"
   ]
  },
  {
   "cell_type": "code",
   "execution_count": null,
   "id": "a88afe0b",
   "metadata": {},
   "outputs": [],
   "source": [
    "df[(df.id == 'katie1') & (df.cancelReason == 'GROUP_SUMMARY_CANCELED')]"
   ]
  },
  {
   "cell_type": "code",
   "execution_count": null,
   "id": "f61a5ee2",
   "metadata": {},
   "outputs": [],
   "source": []
  }
 ],
 "metadata": {
  "kernelspec": {
   "display_name": "Python 3 (ipykernel)",
   "language": "python",
   "name": "python3"
  },
  "language_info": {
   "codemirror_mode": {
    "name": "ipython",
    "version": 3
   },
   "file_extension": ".py",
   "mimetype": "text/x-python",
   "name": "python",
   "nbconvert_exporter": "python",
   "pygments_lexer": "ipython3",
   "version": "3.10.11"
  }
 },
 "nbformat": 4,
 "nbformat_minor": 5
}
