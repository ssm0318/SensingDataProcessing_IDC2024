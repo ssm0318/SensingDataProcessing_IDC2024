{
 "cells": [
  {
   "cell_type": "code",
   "execution_count": null,
   "id": "90203207",
   "metadata": {},
   "outputs": [],
   "source": [
    "import re\n",
    "import json\n",
    "from itertools import chain\n",
    "\n",
    "from datetime import datetime\n",
    "from datetime import date, timedelta, time\n",
    "\n",
    "import pandas as pd\n",
    "from pandas import DataFrame, Index\n",
    "from tqdm.notebook import tqdm\n",
    "\n",
    "from usage_stats_processing import get_model_dataframe\n",
    "from utils import UUID2ID_DICT, UUIDS, IDS, getPkgName"
   ]
  },
  {
   "cell_type": "code",
   "execution_count": null,
   "id": "706fbd06",
   "metadata": {},
   "outputs": [],
   "source": [
    "drg_apps = ['com.instagram.android', 'com.zhiliaoapp.musically', 'com.snapchat.android', 'com.example.drg2023']"
   ]
  },
  {
   "cell_type": "code",
   "execution_count": null,
   "id": "a5ed6b9d",
   "metadata": {},
   "outputs": [],
   "source": [
    "df_ = get_model_dataframe(\"UsageStats\")\n",
    "df_ = df_.rename(columns={\"packageName\": \"pkgName\"})"
   ]
  },
  {
   "cell_type": "code",
   "execution_count": null,
   "id": "310354a2",
   "metadata": {},
   "outputs": [],
   "source": [
    "df = df_"
   ]
  },
  {
   "cell_type": "code",
   "execution_count": null,
   "id": "0fdebe22",
   "metadata": {},
   "outputs": [],
   "source": [
    "len(df)"
   ]
  },
  {
   "cell_type": "code",
   "execution_count": null,
   "id": "7d2b7139",
   "metadata": {},
   "outputs": [],
   "source": [
    "def add_timedelta(x, noon):\n",
    "    try:\n",
    "        if not pd.isna(x) and x.time() > noon:\n",
    "            return x + timedelta(days=1)\n",
    "        else:\n",
    "            return x\n",
    "    except Exception as e:\n",
    "        print(f\"Error in row: {x}, Exception: {e}\")\n",
    "        return x"
   ]
  },
  {
   "cell_type": "code",
   "execution_count": null,
   "id": "5c545469",
   "metadata": {},
   "outputs": [],
   "source": [
    "noon = time(12, 0, 0)\n",
    "df['datetime'] = pd.to_datetime(df['firstTimeStamp'])\n",
    "df['datetime'] = df['datetime'].apply(lambda x: add_timedelta(pd.to_datetime(x), noon))\n",
    "df['date'] = df.datetime.dt.date\n",
    "\n",
    "df = df.sort_values(by=['date', 'lastTimeStamp'], axis=0)\n",
    "df = df.drop_duplicates(subset=['id', 'date', 'pkgName'], keep='last')\n",
    "\n",
    "df = df[(df.totalTimeForeground != '00:00:00') | (df.totalTimeVisible != '00:00:00')]\n",
    "\n",
    "df = df[df['pkgName'].isin(drg_apps)]"
   ]
  },
  {
   "cell_type": "code",
   "execution_count": null,
   "id": "a57cffcc",
   "metadata": {},
   "outputs": [],
   "source": [
    "app_mapping = {\n",
    "    'com.instagram.android': 'Instagram',\n",
    "    'com.zhiliaoapp.musically': 'TikTok',\n",
    "    'com.snapchat.android': 'Snapchat',\n",
    "    'com.example.drg2023': 'AppMinder'\n",
    "}"
   ]
  },
  {
   "cell_type": "code",
   "execution_count": null,
   "id": "448a9731",
   "metadata": {},
   "outputs": [],
   "source": [
    "df['appName'] = df['pkgName'].map(app_mapping)\n",
    "df.drop(columns=['pkgName'], inplace=True)"
   ]
  },
  {
   "cell_type": "code",
   "execution_count": null,
   "id": "2ea3efb0",
   "metadata": {},
   "outputs": [],
   "source": [
    "len(df)"
   ]
  },
  {
   "cell_type": "code",
   "execution_count": null,
   "id": "aa70c8e5",
   "metadata": {},
   "outputs": [],
   "source": [
    "len(set(df['id']))"
   ]
  },
  {
   "cell_type": "code",
   "execution_count": null,
   "id": "17100644",
   "metadata": {},
   "outputs": [],
   "source": [
    "df"
   ]
  },
  {
   "cell_type": "code",
   "execution_count": null,
   "id": "2f29d433",
   "metadata": {},
   "outputs": [],
   "source": [
    "df = df.sort_values(by=['id', 'date'], axis=0)"
   ]
  },
  {
   "cell_type": "code",
   "execution_count": null,
   "id": "9671a387",
   "metadata": {},
   "outputs": [],
   "source": [
    "df.to_csv('usage_stats_processed.csv')"
   ]
  },
  {
   "cell_type": "code",
   "execution_count": null,
   "id": "c4198017",
   "metadata": {},
   "outputs": [],
   "source": [
    "False"
   ]
  },
  {
   "cell_type": "code",
   "execution_count": null,
   "id": "7d791961",
   "metadata": {},
   "outputs": [],
   "source": [
    "df = get_model_dataframe(\"UsageStats\")\n",
    "df = df.rename(columns={\"packageName\": \"pkgName\"})\n",
    "\n",
    "noon = time(12, 0, 0)\n",
    "df['datetime'] = pd.to_datetime(df['firstTimeStamp'])\n",
    "df.datetime = df.datetime.apply(lambda x: x+timedelta(days=1) if x.time() > noon else x)\n",
    "df['date'] = df.datetime.dt.date\n",
    "\n",
    "df = df.sort_values(by=['date', 'lastTimeStamp'], axis=0)\n",
    "df = df.drop_duplicates(subset=['id', 'date', 'pkgName'], keep='last')\n",
    "\n",
    "df = df[(df.totalTimeForeground != '00:00:00') | (df.totalTimeVisible != '00:00:00')]"
   ]
  },
  {
   "cell_type": "code",
   "execution_count": null,
   "id": "7ead0471",
   "metadata": {},
   "outputs": [],
   "source": [
    "for date in DATES:\n",
    "    print(date)\n",
    "    date_df = df[df['date'] == date]\n",
    "    # check each UUID\n",
    "    for uuid in UUIDS:\n",
    "        uuid_df = date_df[date_df['uuid'] == uuid]\n",
    "\n",
    "        # only allow rows where pkg name is the app they selected\n",
    "        uuid_df = uuid_df[uuid_df['pkgName'] == getPkgName(uuid)]\n",
    "\n",
    "        # ensure there is at least one record\n",
    "        if (len(uuid_df) == 0):\n",
    "            print(f\"{UUID2ID_DICT[uuid] if uuid in UUID2ID_DICT.keys() else 'NA'}\")"
   ]
  },
  {
   "cell_type": "code",
   "execution_count": null,
   "id": "56662d4b",
   "metadata": {},
   "outputs": [],
   "source": [
    "df[df['pkgName'].isin(drg_apps)]"
   ]
  },
  {
   "cell_type": "code",
   "execution_count": null,
   "id": "587708c8",
   "metadata": {},
   "outputs": [],
   "source": [
    "df[(df['id'] == 'jaewon3') & (df['pkgName'] == 'com.instagram.android')]"
   ]
  },
  {
   "cell_type": "code",
   "execution_count": null,
   "id": "0e2f5920",
   "metadata": {},
   "outputs": [],
   "source": [
    "df[(df['id'] == 'jaewon3') & (df['pkgName'] == 'com.instagram.android')]"
   ]
  },
  {
   "cell_type": "code",
   "execution_count": null,
   "id": "342927da",
   "metadata": {},
   "outputs": [],
   "source": []
  }
 ],
 "metadata": {
  "kernelspec": {
   "display_name": "Python 3 (ipykernel)",
   "language": "python",
   "name": "python3"
  },
  "language_info": {
   "codemirror_mode": {
    "name": "ipython",
    "version": 3
   },
   "file_extension": ".py",
   "mimetype": "text/x-python",
   "name": "python",
   "nbconvert_exporter": "python",
   "pygments_lexer": "ipython3",
   "version": "3.10.11"
  }
 },
 "nbformat": 4,
 "nbformat_minor": 5
}
