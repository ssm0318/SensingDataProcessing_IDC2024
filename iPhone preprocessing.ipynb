{
 "cells": [
  {
   "cell_type": "code",
   "execution_count": 1,
   "id": "8c02c920-0f10-4946-b887-1fec6f398695",
   "metadata": {},
   "outputs": [],
   "source": [
    "import pandas as pd\n",
    "from docx import Document\n",
    "import os"
   ]
  },
  {
   "cell_type": "code",
   "execution_count": 2,
   "id": "1d4ad9b1-aee7-4de0-961e-b27c26309cdd",
   "metadata": {},
   "outputs": [],
   "source": [
    "file_path = 'iphone_data.csv'\n",
    "data = pd.read_csv(file_path)"
   ]
  },
  {
   "cell_type": "code",
   "execution_count": 3,
   "id": "75c6a057-c4d4-4ce1-a5b4-b9fe9cb6bc86",
   "metadata": {},
   "outputs": [],
   "source": [
    "data_cleaned = data.drop([0, 1]).reset_index(drop=True)"
   ]
  },
  {
   "cell_type": "code",
   "execution_count": 4,
   "id": "264e0723-3575-4259-bd2e-25da45fafbf4",
   "metadata": {},
   "outputs": [],
   "source": [
    "question_texts = data.iloc[0, :].to_dict()\n",
    "\n",
    "pid_column = 'Q26'\n",
    "date_column = 'RecordedDate' \n",
    "\n",
    "columns_of_interest = [\n",
    "    \"Q15\", \"Q10\", \"Q24\", \n",
    "    \"Q3_4\", \"Q16\", \"Q3_5\", \"Q18\", \n",
    "    \"Q3_6\", \"Q19\", \"Q3_7\", \"Q20\", \n",
    "    \"Q3_8\", \"Q21\", \"Q3_9\", \"Q22\"\n",
    "]"
   ]
  },
  {
   "cell_type": "code",
   "execution_count": 5,
   "id": "070be58c-8f02-4219-9702-2743e0eb6241",
   "metadata": {},
   "outputs": [],
   "source": [
    "columns_of_interest_with_texts = [question_texts[col] for col in columns_of_interest]"
   ]
  },
  {
   "cell_type": "code",
   "execution_count": 6,
   "id": "107d4947-3412-4901-8291-51de575ad2dc",
   "metadata": {},
   "outputs": [],
   "source": [
    "data_filtered = data_cleaned[[pid_column, date_column] + columns_of_interest]"
   ]
  },
  {
   "cell_type": "code",
   "execution_count": 7,
   "id": "0ad6d60f-1862-4e6c-9442-fa838b9e3166",
   "metadata": {},
   "outputs": [
    {
     "name": "stderr",
     "output_type": "stream",
     "text": [
      "/var/folders/vr/fynfqqj539zdh2hh2gwbpjn40000gp/T/ipykernel_31139/331908638.py:1: SettingWithCopyWarning: \n",
      "A value is trying to be set on a copy of a slice from a DataFrame.\n",
      "Try using .loc[row_indexer,col_indexer] = value instead\n",
      "\n",
      "See the caveats in the documentation: https://pandas.pydata.org/pandas-docs/stable/user_guide/indexing.html#returning-a-view-versus-a-copy\n",
      "  data_filtered[pid_column] = data_filtered[pid_column].str.strip().str.lower()\n"
     ]
    }
   ],
   "source": [
    "data_filtered[pid_column] = data_filtered[pid_column].str.strip().str.lower()"
   ]
  },
  {
   "cell_type": "code",
   "execution_count": 8,
   "id": "d3fa185b-d4c0-4730-8083-a9727a2d0a1b",
   "metadata": {},
   "outputs": [],
   "source": [
    "grouped_data = data_filtered.groupby(pid_column).apply(lambda df: df.to_dict('records'))"
   ]
  },
  {
   "cell_type": "code",
   "execution_count": 9,
   "id": "16f224f5-08f0-4241-af80-eef802c80db7",
   "metadata": {},
   "outputs": [
    {
     "name": "stdout",
     "output_type": "stream",
     "text": [
      "An error occurred while processing PID: https://ischooluw.co1.qualtrics.com/jfe/form/sv_5ii6sxmtgfd8wlu. Error: [Errno 2] No such file or directory: 'cleaned_iphone/https://ischooluw.co1.qualtrics.com/jfe/form/sv_5ii6sxmtgfd8wlu.docx'\n",
      "Export completed.\n"
     ]
    }
   ],
   "source": [
    "output_folder = 'cleaned_iphone'\n",
    "os.makedirs(output_folder, exist_ok=True)\n",
    "\n",
    "for pid, entries in grouped_data.items():\n",
    "    try:\n",
    "        doc = Document()\n",
    "        doc.add_heading(f'Participant ID: {pid}', 0)\n",
    "        \n",
    "        for entry in entries:\n",
    "            entry_date = entry.get(date_column, 'Unknown Date')\n",
    "            doc.add_heading(f'[Entry: {entry_date}]', level=1)\n",
    "            for col, question_text in zip(columns_of_interest, columns_of_interest_with_texts):\n",
    "                response = entry.get(col)\n",
    "                if response:\n",
    "                    doc.add_paragraph(f\"[{col}] {question_text}: \\n- {response}\")\n",
    "            doc.add_paragraph('\\n') \n",
    "        \n",
    "        file_name = os.path.join(output_folder, f'{pid}.docx')\n",
    "        doc.save(file_name)\n",
    "        \n",
    "    except Exception as e:\n",
    "        print(f\"An error occurred while processing PID: {pid}. Error: {e}\")\n",
    "\n",
    "print(\"Export completed.\")"
   ]
  },
  {
   "cell_type": "code",
   "execution_count": null,
   "id": "76c17a61-a84c-489b-8f65-dab8c27e3807",
   "metadata": {},
   "outputs": [],
   "source": []
  },
  {
   "cell_type": "code",
   "execution_count": null,
   "id": "e01a4568-bc3a-43bc-a0f3-9e5ea1debf18",
   "metadata": {},
   "outputs": [],
   "source": []
  }
 ],
 "metadata": {
  "kernelspec": {
   "display_name": "venv3.9",
   "language": "python",
   "name": "venv3.9"
  },
  "language_info": {
   "codemirror_mode": {
    "name": "ipython",
    "version": 3
   },
   "file_extension": ".py",
   "mimetype": "text/x-python",
   "name": "python",
   "nbconvert_exporter": "python",
   "pygments_lexer": "ipython3",
   "version": "3.9.19"
  }
 },
 "nbformat": 4,
 "nbformat_minor": 5
}
